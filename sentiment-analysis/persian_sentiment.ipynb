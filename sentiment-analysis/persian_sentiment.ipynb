{
 "cells": [
  {
   "cell_type": "markdown",
   "id": "8a20ae8f",
   "metadata": {},
   "source": [
    "# Persian Sentiment Analysis with Hugging Face\n",
    "\n",
    "This notebook demonstrates how to use a pre-trained Persian sentiment analysis model from Hugging Face to classify Persian text as positive or negative."
   ]
  },
  {
   "cell_type": "code",
   "execution_count": null,
   "id": "29149f4c9f9dde3f",
   "metadata": {},
   "outputs": [],
   "source": [
    "# Import required libraries\n",
    "from transformers import pipeline"
   ]
  },
  {
   "cell_type": "code",
   "execution_count": null,
   "id": "32456323dfc17963",
   "metadata": {},
   "outputs": [],
   "source": [
    "# Create a sentiment analysis pipeline with a Persian model\n",
    "sentiment_pipeline = pipeline(\n",
    "    \"text-classification\", \n",
    "    model=\"HooshvareLab/bert-fa-base-uncased-sentiment-deepsentipers-binary\"\n",
    ")\n",
    "\n",
    "# Example Persian sentences\n",
    "data = [\n",
    "    \"من این محصول را دوست دارم\",  # I like this product\n",
    "    \"این خیلی بد است\",  # This is very bad\n",
    "    \"کیفیت این محصول عالی است\",  # The quality of this product is excellent\n",
    "    \"از خرید این محصول پشیمان هستم\"  # I regret buying this product\n",
    "]\n",
    "\n",
    "# Run sentiment analysis on the examples\n",
    "results = sentiment_pipeline(data)"
   ]
  },
  {
   "cell_type": "code",
   "execution_count": null,
   "id": "68b25975834fdc9d",
   "metadata": {},
   "outputs": [],
   "source": [
    "# Create a mapping for more readable labels\n",
    "label_mapping = {\n",
    "    \"LABEL_0\": \"Negative\",\n",
    "    \"LABEL_1\": \"Positive\"\n",
    "}\n",
    "\n",
    "# Print the results\n",
    "for text, result in zip(data, results):\n",
    "    print(f\"Text: {text}\")\n",
    "    print(f\"Label: {label_mapping[result['label']]}, Score: {result['score']:.4f}\")\n",
    "    print()"
   ]
  },
  {
   "cell_type": "code",
   "execution_count": null,
   "id": "84d5d2b1a6be2f39",
   "metadata": {},
   "outputs": [],
   "source": [
    "# Create a function to analyze user input\n",
    "def analyze_persian_sentiment(text):\n",
    "    result = sentiment_pipeline(text)[0]\n",
    "    sentiment = label_mapping[result['label']]\n",
    "    score = result['score']\n",
    "    return f\"Sentiment: {sentiment}, Confidence: {score:.4f}\""
   ]
  },
  {
   "cell_type": "code",
   "execution_count": null,
   "id": "7fa6a2c91c43b8a3",
   "metadata": {},
   "outputs": [],
   "source": [
    "# Example usage with your own text\n",
    "user_text = \"من از خدمات شما بسیار راضی هستم\"  # I'm very satisfied with your services\n",
    "print(f\"Text: {user_text}\")\n",
    "print(analyze_persian_sentiment(user_text))"
   ]
  },
  {
   "cell_type": "markdown",
   "id": "a14a9bcb",
   "metadata": {},
   "source": [
    "## Interactive Analysis\n",
    "\n",
    "You can use the following cell to analyze your own Persian text."
   ]
  },
  {
   "cell_type": "code",
   "execution_count": null,
   "id": "9d3a4e39",
   "metadata": {},
   "outputs": [],
   "source": [
    "# Enter your text (in Persian) here\n",
    "your_text = input(\"Enter Persian text for sentiment analysis: \")\n",
    "print(analyze_persian_sentiment(your_text))"
   ]
  }
 ],
 "metadata": {
  "kernelspec": {
   "display_name": "base",
   "language": "python",
   "name": "python3"
  },
  "language_info": {
   "codemirror_mode": {
    "name": "ipython",
    "version": 3
   },
   "file_extension": ".py",
   "mimetype": "text/x-python",
   "name": "python",
   "nbconvert_exporter": "python",
   "pygments_lexer": "ipython3",
   "version": "3.12.7"
  }
 },
 "nbformat": 4,
 "nbformat_minor": 5
}
